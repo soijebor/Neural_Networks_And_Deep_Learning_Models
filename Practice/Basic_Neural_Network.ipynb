{
 "cells": [
  {
   "cell_type": "code",
   "execution_count": 1,
   "metadata": {},
   "outputs": [],
   "source": [
    "# Import our dependencies\n",
    "import pandas as pd\n",
    "import matplotlib as plt\n",
    "from sklearn.datasets import make_blobs\n",
    "import sklearn as skl\n",
    "import tensorflow as tf"
   ]
  },
  {
   "cell_type": "code",
   "execution_count": 2,
   "metadata": {},
   "outputs": [
    {
     "data": {
      "text/plain": [
       "<matplotlib.axes._subplots.AxesSubplot at 0x7ffc838e8a10>"
      ]
     },
     "execution_count": 2,
     "metadata": {},
     "output_type": "execute_result"
    },
    {
     "data": {
      "image/png": "[encoded data removed]",
      "text/plain": [
       "<Figure size 432x288 with 2 Axes>"
      ]
     },
     "metadata": {
      "needs_background": "light"
     },
     "output_type": "display_data"
    }
   ],
   "source": [
    "# Generate dummy dataset\n",
    "X, y = make_blobs(n_samples=1000, centers=2, n_features=2, random_state=78)\n",
    "\n",
    "# Creating a DataFrame with the dummy data\n",
    "df = pd.DataFrame(X, columns=[\"Feature 1\", \"Feature 2\"])\n",
    "df[\"Target\"] = y\n",
    "\n",
    "# Plotting the dummy data\n",
    "df.plot.scatter(x=\"Feature 1\", y=\"Feature 2\", c=\"Target\", colormap=\"winter\")\n"
   ]
  },
  {
   "cell_type": "code",
   "execution_count": 3,
   "metadata": {},
   "outputs": [],
   "source": [
    "# Use sklearn to split dataset\n",
    "from sklearn.model_selection import train_test_split\n",
    "X_train, X_test, y_train, y_test = train_test_split(X, y, random_state=78)"
   ]
  },
  {
   "cell_type": "code",
   "execution_count": 4,
   "metadata": {},
   "outputs": [],
   "source": [
    "# Create scaler instance\n",
    "X_scaler = skl.preprocessing.StandardScaler()\n",
    "\n",
    "# Fit the scaler\n",
    "X_scaler.fit(X_train)\n",
    "\n",
    "# Scale the data\n",
    "X_train_scaled = X_scaler.transform(X_train)\n",
    "X_test_scaled = X_scaler.transform(X_test)"
   ]
  },
  {
   "cell_type": "code",
   "execution_count": 5,
   "metadata": {},
   "outputs": [],
   "source": [
    "# Create the Keras Sequential model\n",
    "nn_model = tf.keras.models.Sequential()"
   ]
  },
  {
   "cell_type": "code",
   "execution_count": 6,
   "metadata": {},
   "outputs": [],
   "source": [
    "# Add our first Dense layer, including the input layer\n",
    "nn_model.add(tf.keras.layers.Dense(units=1, activation=\"relu\", input_dim=2))"
   ]
  },
  {
   "cell_type": "code",
   "execution_count": 7,
   "metadata": {},
   "outputs": [],
   "source": [
    "# Add the output layer that uses a probability activation function\n",
    "nn_model.add(tf.keras.layers.Dense(units=1, activation=\"sigmoid\"))"
   ]
  },
  {
   "cell_type": "code",
   "execution_count": 8,
   "metadata": {},
   "outputs": [
    {
     "name": "stdout",
     "output_type": "stream",
     "text": [
      "Model: \"sequential\"\n",
      "_________________________________________________________________\n",
      "Layer (type)                 Output Shape              Param #   \n",
      "=================================================================\n",
      "dense (Dense)                (None, 1)                 3         \n",
      "_________________________________________________________________\n",
      "dense_1 (Dense)              (None, 1)                 2         \n",
      "=================================================================\n",
      "Total params: 5\n",
      "Trainable params: 5\n",
      "Non-trainable params: 0\n",
      "_________________________________________________________________\n"
     ]
    }
   ],
   "source": [
    "# Check the structure of the Sequential model\n",
    "nn_model.summary()"
   ]
  },
  {
   "cell_type": "code",
   "execution_count": 9,
   "metadata": {},
   "outputs": [],
   "source": [
    "# Compile the Sequential model together and customize metrics\n",
    "nn_model.compile(loss=\"binary_crossentropy\", optimizer=\"adam\", metrics=[\"accuracy\"])"
   ]
  },
  {
   "cell_type": "code",
   "execution_count": 10,
   "metadata": {},
   "outputs": [
    {
     "name": "stdout",
     "output_type": "stream",
     "text": [
      "Train on 750 samples\n",
      "Epoch 1/100\n",
      "750/750 [==============================] - 1s 922us/sample - loss: 0.8028 - accuracy: 0.0240\n",
      "Epoch 2/100\n",
      "750/750 [==============================] - 0s 55us/sample - loss: 0.7854 - accuracy: 0.0040\n",
      "Epoch 3/100\n",
      "750/750 [==============================] - 0s 56us/sample - loss: 0.7702 - accuracy: 0.0040\n",
      "Epoch 4/100\n",
      "750/750 [==============================] - 0s 56us/sample - loss: 0.7566 - accuracy: 0.0053\n",
      "Epoch 5/100\n",
      "750/750 [==============================] - 0s 55us/sample - loss: 0.7448 - accuracy: 0.0107\n",
      "Epoch 6/100\n",
      "750/750 [==============================] - 0s 57us/sample - loss: 0.7336 - accuracy: 0.0280\n",
      "Epoch 7/100\n",
      "750/750 [==============================] - 0s 58us/sample - loss: 0.7240 - accuracy: 0.0547\n",
      "Epoch 8/100\n",
      "750/750 [==============================] - 0s 54us/sample - loss: 0.7153 - accuracy: 0.1013\n",
      "Epoch 9/100\n",
      "750/750 [==============================] - 0s 56us/sample - loss: 0.7075 - accuracy: 0.1760\n",
      "Epoch 10/100\n",
      "750/750 [==============================] - 0s 56us/sample - loss: 0.7013 - accuracy: 0.2880\n",
      "Epoch 11/100\n",
      "750/750 [==============================] - 0s 57us/sample - loss: 0.6968 - accuracy: 0.3973\n",
      "Epoch 12/100\n",
      "750/750 [==============================] - 0s 57us/sample - loss: 0.6945 - accuracy: 0.4560\n",
      "Epoch 13/100\n",
      "750/750 [==============================] - 0s 55us/sample - loss: 0.6938 - accuracy: 0.4787\n",
      "Epoch 14/100\n",
      "750/750 [==============================] - 0s 55us/sample - loss: 0.6936 - accuracy: 0.4840\n",
      "Epoch 15/100\n",
      "750/750 [==============================] - 0s 56us/sample - loss: 0.6934 - accuracy: 0.4867\n",
      "Epoch 16/100\n",
      "750/750 [==============================] - 0s 55us/sample - loss: 0.6934 - accuracy: 0.4893\n",
      "Epoch 17/100\n",
      "750/750 [==============================] - 0s 56us/sample - loss: 0.6933 - accuracy: 0.4893\n",
      "Epoch 18/100\n",
      "750/750 [==============================] - 0s 56us/sample - loss: 0.6933 - accuracy: 0.4893\n",
      "Epoch 19/100\n",
      "750/750 [==============================] - 0s 59us/sample - loss: 0.6932 - accuracy: 0.4893\n",
      "Epoch 20/100\n",
      "750/750 [==============================] - 0s 57us/sample - loss: 0.6932 - accuracy: 0.4893\n",
      "Epoch 21/100\n",
      "750/750 [==============================] - 0s 55us/sample - loss: 0.6932 - accuracy: 0.4893\n",
      "Epoch 22/100\n",
      "750/750 [==============================] - 0s 57us/sample - loss: 0.6933 - accuracy: 0.4773\n",
      "Epoch 23/100\n",
      "750/750 [==============================] - 0s 58us/sample - loss: 0.6932 - accuracy: 0.4680\n",
      "Epoch 24/100\n",
      "750/750 [==============================] - 0s 56us/sample - loss: 0.6932 - accuracy: 0.5027\n",
      "Epoch 25/100\n",
      "750/750 [==============================] - 0s 56us/sample - loss: 0.6931 - accuracy: 0.5067\n",
      "Epoch 26/100\n",
      "750/750 [==============================] - 0s 57us/sample - loss: 0.6931 - accuracy: 0.5067\n",
      "Epoch 27/100\n",
      "750/750 [==============================] - 0s 57us/sample - loss: 0.6932 - accuracy: 0.5067\n",
      "Epoch 28/100\n",
      "750/750 [==============================] - 0s 56us/sample - loss: 0.6931 - accuracy: 0.5067\n",
      "Epoch 29/100\n",
      "750/750 [==============================] - 0s 56us/sample - loss: 0.6931 - accuracy: 0.5067\n",
      "Epoch 30/100\n",
      "750/750 [==============================] - 0s 57us/sample - loss: 0.6931 - accuracy: 0.5067\n",
      "Epoch 31/100\n",
      "750/750 [==============================] - 0s 57us/sample - loss: 0.6931 - accuracy: 0.5067\n",
      "Epoch 32/100\n",
      "750/750 [==============================] - 0s 56us/sample - loss: 0.6931 - accuracy: 0.5067\n",
      "Epoch 33/100\n",
      "750/750 [==============================] - 0s 56us/sample - loss: 0.6931 - accuracy: 0.5067\n",
      "Epoch 34/100\n",
      "750/750 [==============================] - 0s 57us/sample - loss: 0.6931 - accuracy: 0.5067\n",
      "Epoch 35/100\n",
      "750/750 [==============================] - 0s 61us/sample - loss: 0.6931 - accuracy: 0.5067\n",
      "Epoch 36/100\n",
      "750/750 [==============================] - 0s 57us/sample - loss: 0.6931 - accuracy: 0.5067\n",
      "Epoch 37/100\n",
      "750/750 [==============================] - 0s 58us/sample - loss: 0.6931 - accuracy: 0.5067\n",
      "Epoch 38/100\n",
      "750/750 [==============================] - 0s 57us/sample - loss: 0.6931 - accuracy: 0.5067\n",
      "Epoch 39/100\n",
      "750/750 [==============================] - 0s 56us/sample - loss: 0.6931 - accuracy: 0.5067\n",
      "Epoch 40/100\n",
      "750/750 [==============================] - 0s 57us/sample - loss: 0.6931 - accuracy: 0.5067\n",
      "Epoch 41/100\n",
      "750/750 [==============================] - 0s 52us/sample - loss: 0.6931 - accuracy: 0.5067\n",
      "Epoch 42/100\n",
      "750/750 [==============================] - 0s 56us/sample - loss: 0.6931 - accuracy: 0.5067\n",
      "Epoch 43/100\n",
      "750/750 [==============================] - 0s 52us/sample - loss: 0.6931 - accuracy: 0.5067\n",
      "Epoch 44/100\n",
      "750/750 [==============================] - 0s 57us/sample - loss: 0.6931 - accuracy: 0.5067\n",
      "Epoch 45/100\n",
      "750/750 [==============================] - 0s 53us/sample - loss: 0.6931 - accuracy: 0.5067\n",
      "Epoch 46/100\n",
      "750/750 [==============================] - 0s 57us/sample - loss: 0.6931 - accuracy: 0.5067\n",
      "Epoch 47/100\n",
      "750/750 [==============================] - 0s 52us/sample - loss: 0.6931 - accuracy: 0.5067\n",
      "Epoch 48/100\n",
      "750/750 [==============================] - 0s 57us/sample - loss: 0.6931 - accuracy: 0.5067\n",
      "Epoch 49/100\n",
      "750/750 [==============================] - 0s 53us/sample - loss: 0.6931 - accuracy: 0.5067\n",
      "Epoch 50/100\n",
      "750/750 [==============================] - 0s 57us/sample - loss: 0.6931 - accuracy: 0.5067\n",
      "Epoch 51/100\n",
      "750/750 [==============================] - 0s 64us/sample - loss: 0.6931 - accuracy: 0.5067\n",
      "Epoch 52/100\n",
      "750/750 [==============================] - 0s 54us/sample - loss: 0.6931 - accuracy: 0.5067\n",
      "Epoch 53/100\n",
      "750/750 [==============================] - 0s 57us/sample - loss: 0.6931 - accuracy: 0.5067\n",
      "Epoch 54/100\n",
      "750/750 [==============================] - 0s 57us/sample - loss: 0.6931 - accuracy: 0.5067\n",
      "Epoch 55/100\n",
      "750/750 [==============================] - 0s 57us/sample - loss: 0.6931 - accuracy: 0.5067\n",
      "Epoch 56/100\n",
      "750/750 [==============================] - 0s 58us/sample - loss: 0.6931 - accuracy: 0.5067\n",
      "Epoch 57/100\n",
      "750/750 [==============================] - 0s 53us/sample - loss: 0.6932 - accuracy: 0.5067\n",
      "Epoch 58/100\n",
      "750/750 [==============================] - 0s 57us/sample - loss: 0.6931 - accuracy: 0.5067\n",
      "Epoch 59/100\n",
      "750/750 [==============================] - 0s 56us/sample - loss: 0.6931 - accuracy: 0.5067\n",
      "Epoch 60/100\n",
      "750/750 [==============================] - 0s 58us/sample - loss: 0.6931 - accuracy: 0.5067\n",
      "Epoch 61/100\n",
      "750/750 [==============================] - 0s 57us/sample - loss: 0.6931 - accuracy: 0.5067\n",
      "Epoch 62/100\n",
      "750/750 [==============================] - 0s 52us/sample - loss: 0.6931 - accuracy: 0.5067\n",
      "Epoch 63/100\n",
      "750/750 [==============================] - 0s 58us/sample - loss: 0.6931 - accuracy: 0.5067\n",
      "Epoch 64/100\n",
      "750/750 [==============================] - 0s 53us/sample - loss: 0.6931 - accuracy: 0.5067\n",
      "Epoch 65/100\n",
      "750/750 [==============================] - 0s 57us/sample - loss: 0.6931 - accuracy: 0.5067\n",
      "Epoch 66/100\n",
      "750/750 [==============================] - 0s 58us/sample - loss: 0.6931 - accuracy: 0.5067\n",
      "Epoch 67/100\n",
      "750/750 [==============================] - 0s 57us/sample - loss: 0.6931 - accuracy: 0.5067\n",
      "Epoch 68/100\n",
      "750/750 [==============================] - 0s 58us/sample - loss: 0.6931 - accuracy: 0.5067\n",
      "Epoch 69/100\n",
      "750/750 [==============================] - 0s 56us/sample - loss: 0.6931 - accuracy: 0.5067\n",
      "Epoch 70/100\n",
      "750/750 [==============================] - 0s 58us/sample - loss: 0.6931 - accuracy: 0.5067\n",
      "Epoch 71/100\n",
      "750/750 [==============================] - 0s 57us/sample - loss: 0.6931 - accuracy: 0.5067\n",
      "Epoch 72/100\n",
      "750/750 [==============================] - 0s 57us/sample - loss: 0.6931 - accuracy: 0.5067\n",
      "Epoch 73/100\n",
      "750/750 [==============================] - 0s 58us/sample - loss: 0.6931 - accuracy: 0.5067\n",
      "Epoch 74/100\n",
      "750/750 [==============================] - 0s 58us/sample - loss: 0.6931 - accuracy: 0.5067\n",
      "Epoch 75/100\n",
      "750/750 [==============================] - 0s 58us/sample - loss: 0.6931 - accuracy: 0.5067\n",
      "Epoch 76/100\n",
      "750/750 [==============================] - 0s 57us/sample - loss: 0.6931 - accuracy: 0.5067\n",
      "Epoch 77/100\n",
      "750/750 [==============================] - 0s 53us/sample - loss: 0.6931 - accuracy: 0.5067\n",
      "Epoch 78/100\n"
     ]
    },
    {
     "name": "stdout",
     "output_type": "stream",
     "text": [
      "750/750 [==============================] - 0s 58us/sample - loss: 0.6931 - accuracy: 0.5067\n",
      "Epoch 79/100\n",
      "750/750 [==============================] - 0s 56us/sample - loss: 0.6931 - accuracy: 0.5067\n",
      "Epoch 80/100\n",
      "750/750 [==============================] - 0s 52us/sample - loss: 0.6931 - accuracy: 0.5067\n",
      "Epoch 81/100\n",
      "750/750 [==============================] - 0s 53us/sample - loss: 0.6931 - accuracy: 0.5067\n",
      "Epoch 82/100\n",
      "750/750 [==============================] - 0s 53us/sample - loss: 0.6931 - accuracy: 0.5067\n",
      "Epoch 83/100\n",
      "750/750 [==============================] - 0s 55us/sample - loss: 0.6931 - accuracy: 0.5067\n",
      "Epoch 84/100\n",
      "750/750 [==============================] - 0s 54us/sample - loss: 0.6931 - accuracy: 0.5067\n",
      "Epoch 85/100\n",
      "750/750 [==============================] - 0s 54us/sample - loss: 0.6931 - accuracy: 0.5067\n",
      "Epoch 86/100\n",
      "750/750 [==============================] - 0s 54us/sample - loss: 0.6931 - accuracy: 0.5067\n",
      "Epoch 87/100\n",
      "750/750 [==============================] - 0s 55us/sample - loss: 0.6931 - accuracy: 0.5067\n",
      "Epoch 88/100\n",
      "750/750 [==============================] - 0s 54us/sample - loss: 0.6931 - accuracy: 0.5067\n",
      "Epoch 89/100\n",
      "750/750 [==============================] - 0s 54us/sample - loss: 0.6931 - accuracy: 0.5067\n",
      "Epoch 90/100\n",
      "750/750 [==============================] - 0s 54us/sample - loss: 0.6931 - accuracy: 0.5067\n",
      "Epoch 91/100\n",
      "750/750 [==============================] - 0s 58us/sample - loss: 0.6931 - accuracy: 0.5067\n",
      "Epoch 92/100\n",
      "750/750 [==============================] - 0s 55us/sample - loss: 0.6931 - accuracy: 0.5067\n",
      "Epoch 93/100\n",
      "750/750 [==============================] - 0s 57us/sample - loss: 0.6931 - accuracy: 0.5067\n",
      "Epoch 94/100\n",
      "750/750 [==============================] - 0s 56us/sample - loss: 0.6931 - accuracy: 0.5067\n",
      "Epoch 95/100\n",
      "750/750 [==============================] - 0s 56us/sample - loss: 0.6931 - accuracy: 0.5067\n",
      "Epoch 96/100\n",
      "750/750 [==============================] - 0s 57us/sample - loss: 0.6931 - accuracy: 0.5067\n",
      "Epoch 97/100\n",
      "750/750 [==============================] - 0s 55us/sample - loss: 0.6931 - accuracy: 0.5067\n",
      "Epoch 98/100\n",
      "750/750 [==============================] - 0s 57us/sample - loss: 0.6931 - accuracy: 0.5067\n",
      "Epoch 99/100\n",
      "750/750 [==============================] - 0s 55us/sample - loss: 0.6931 - accuracy: 0.5067\n",
      "Epoch 100/100\n",
      "750/750 [==============================] - 0s 56us/sample - loss: 0.6931 - accuracy: 0.5067\n"
     ]
    }
   ],
   "source": [
    "# Fit the model to the training data\n",
    "fit_model = nn_model.fit(X_train_scaled, y_train, epochs=100)"
   ]
  },
  {
   "cell_type": "code",
   "execution_count": 11,
   "metadata": {},
   "outputs": [
    {
     "data": {
      "text/plain": [
       "<matplotlib.axes._subplots.AxesSubplot at 0x7ffc854184d0>"
      ]
     },
     "execution_count": 11,
     "metadata": {},
     "output_type": "execute_result"
    },
    {
     "data": {
      "image/png": "[encoded data removed]",
      "text/plain": [
       "<Figure size 432x288 with 1 Axes>"
      ]
     },
     "metadata": {
      "needs_background": "light"
     },
     "output_type": "display_data"
    }
   ],
   "source": [
    "# Create a DataFrame containing training history\n",
    "history_df = pd.DataFrame(fit_model.history, index=range(1,len(fit_model.history[\"loss\"])+1))\n",
    "\n",
    "# Plot the loss\n",
    "history_df.plot(y=\"loss\")"
   ]
  },
  {
   "cell_type": "code",
   "execution_count": 12,
   "metadata": {},
   "outputs": [
    {
     "data": {
      "text/plain": [
       "<matplotlib.axes._subplots.AxesSubplot at 0x7ffc65c5db10>"
      ]
     },
     "execution_count": 12,
     "metadata": {},
     "output_type": "execute_result"
    },
    {
     "data": {
      "image/png": "[encoded data removed]",
      "text/plain": [
       "<Figure size 432x288 with 1 Axes>"
      ]
     },
     "metadata": {
      "needs_background": "light"
     },
     "output_type": "display_data"
    }
   ],
   "source": [
    "# Plot the accuracy\n",
    "history_df.plot(y=\"accuracy\")"
   ]
  },
  {
   "cell_type": "code",
   "execution_count": 13,
   "metadata": {},
   "outputs": [
    {
     "name": "stdout",
     "output_type": "stream",
     "text": [
      "250/1 - 0s - loss: 0.6918 - accuracy: 0.4800\n",
      "Loss: 0.6938791260719299, Accuracy: 0.47999998927116394\n"
     ]
    }
   ],
   "source": [
    "# Evaluate the model using the test data\n",
    "model_loss, model_accuracy = nn_model.evaluate(X_test_scaled,y_test,verbose=2)\n",
    "print(f\"Loss: {model_loss}, Accuracy: {model_accuracy}\")"
   ]
  },
  {
   "cell_type": "code",
   "execution_count": 14,
   "metadata": {},
   "outputs": [
    {
     "data": {
      "text/plain": [
       "array([[0],\n",
       "       [0],\n",
       "       [0],\n",
       "       [0],\n",
       "       [0],\n",
       "       [0],\n",
       "       [0],\n",
       "       [0],\n",
       "       [0],\n",
       "       [0]], dtype=int32)"
      ]
     },
     "execution_count": 14,
     "metadata": {},
     "output_type": "execute_result"
    }
   ],
   "source": [
    "# Predict the classification of a new set of blob data\n",
    "new_X, new_Y = make_blobs(n_samples=10, centers=2, n_features=2, random_state=78)\n",
    "new_X_scaled = X_scaler.transform(new_X)\n",
    "nn_model.predict_classes(new_X_scaled)"
   ]
  },
  {
   "cell_type": "code",
   "execution_count": 15,
   "metadata": {},
   "outputs": [
    {
     "data": {
      "text/plain": [
       "<matplotlib.axes._subplots.AxesSubplot at 0x7ffc65d28b10>"
      ]
     },
     "execution_count": 15,
     "metadata": {},
     "output_type": "execute_result"
    },
    {
     "data": {
      "image/png": "[encoded data removed]",
      "text/plain": [
       "<Figure size 432x288 with 2 Axes>"
      ]
     },
     "metadata": {
      "needs_background": "light"
     },
     "output_type": "display_data"
    }
   ],
   "source": [
    "from sklearn.datasets import make_moons\n",
    "\n",
    "# Creating dummy nonlinear data\n",
    "X_moons, y_moons = make_moons(n_samples=1000, noise=0.08, random_state=78)\n",
    "\n",
    "# Transforming y_moons to a vertical vector\n",
    "y_moons = y_moons.reshape(-1, 1)\n",
    "\n",
    "# Creating a DataFrame to plot the nonlinear dummy data\n",
    "df_moons = pd.DataFrame(X_moons, columns=[\"Feature 1\", \"Feature 2\"])\n",
    "df_moons[\"Target\"] = y_moons\n",
    "\n",
    "# Plot the nonlinear dummy data\n",
    "df_moons.plot.scatter(x=\"Feature 1\",y=\"Feature 2\", c=\"Target\",colormap=\"winter\")"
   ]
  },
  {
   "cell_type": "code",
   "execution_count": 16,
   "metadata": {},
   "outputs": [],
   "source": [
    "# Create training and testing sets\n",
    "X_moon_train, X_moon_test, y_moon_train, y_moon_test = train_test_split(\n",
    "    X_moons, y_moons, random_state=78\n",
    ")\n",
    "\n",
    "# Create the scaler instance\n",
    "X_moon_scaler = skl.preprocessing.StandardScaler()\n",
    "\n",
    "# Fit the scaler\n",
    "X_moon_scaler.fit(X_moon_train)\n",
    "\n",
    "# Scale the data\n",
    "X_moon_train_scaled = X_moon_scaler.transform(X_moon_train)\n",
    "X_moon_test_scaled = X_moon_scaler.transform(X_moon_test)"
   ]
  },
  {
   "cell_type": "code",
   "execution_count": null,
   "metadata": {},
   "outputs": [],
   "source": []
  },
  {
   "cell_type": "code",
   "execution_count": 17,
   "metadata": {},
   "outputs": [
    {
     "name": "stdout",
     "output_type": "stream",
     "text": [
      "Train on 750 samples\n",
      "Epoch 1/100\n",
      "750/750 [==============================] - 0s 111us/sample - loss: 0.6923 - accuracy: 0.5307\n",
      "Epoch 2/100\n",
      "750/750 [==============================] - 0s 58us/sample - loss: 0.6922 - accuracy: 0.5307\n",
      "Epoch 3/100\n",
      "750/750 [==============================] - 0s 60us/sample - loss: 0.6921 - accuracy: 0.5307\n",
      "Epoch 4/100\n",
      "750/750 [==============================] - 0s 60us/sample - loss: 0.6920 - accuracy: 0.5307\n",
      "Epoch 5/100\n",
      "750/750 [==============================] - 0s 60us/sample - loss: 0.6919 - accuracy: 0.5307\n",
      "Epoch 6/100\n",
      "750/750 [==============================] - 0s 58us/sample - loss: 0.6919 - accuracy: 0.5307\n",
      "Epoch 7/100\n",
      "750/750 [==============================] - 0s 58us/sample - loss: 0.6918 - accuracy: 0.5307\n",
      "Epoch 8/100\n",
      "750/750 [==============================] - 0s 56us/sample - loss: 0.6917 - accuracy: 0.5307\n",
      "Epoch 9/100\n",
      "750/750 [==============================] - 0s 62us/sample - loss: 0.6917 - accuracy: 0.5307\n",
      "Epoch 10/100\n",
      "750/750 [==============================] - 0s 59us/sample - loss: 0.6916 - accuracy: 0.5307\n",
      "Epoch 11/100\n",
      "750/750 [==============================] - 0s 57us/sample - loss: 0.6916 - accuracy: 0.5307\n",
      "Epoch 12/100\n",
      "750/750 [==============================] - 0s 58us/sample - loss: 0.6915 - accuracy: 0.5307\n",
      "Epoch 13/100\n",
      "750/750 [==============================] - 0s 62us/sample - loss: 0.6915 - accuracy: 0.5307\n",
      "Epoch 14/100\n",
      "750/750 [==============================] - 0s 59us/sample - loss: 0.6915 - accuracy: 0.5307\n",
      "Epoch 15/100\n",
      "750/750 [==============================] - 0s 56us/sample - loss: 0.6914 - accuracy: 0.5307\n",
      "Epoch 16/100\n",
      "750/750 [==============================] - 0s 58us/sample - loss: 0.6914 - accuracy: 0.5307\n",
      "Epoch 17/100\n",
      "750/750 [==============================] - 0s 56us/sample - loss: 0.6914 - accuracy: 0.5307\n",
      "Epoch 18/100\n",
      "750/750 [==============================] - 0s 58us/sample - loss: 0.6914 - accuracy: 0.5307\n",
      "Epoch 19/100\n",
      "750/750 [==============================] - 0s 58us/sample - loss: 0.6914 - accuracy: 0.5307\n",
      "Epoch 20/100\n",
      "750/750 [==============================] - 0s 56us/sample - loss: 0.6914 - accuracy: 0.5307\n",
      "Epoch 21/100\n",
      "750/750 [==============================] - 0s 61us/sample - loss: 0.6914 - accuracy: 0.5307\n",
      "Epoch 22/100\n",
      "750/750 [==============================] - 0s 59us/sample - loss: 0.6913 - accuracy: 0.5307\n",
      "Epoch 23/100\n",
      "750/750 [==============================] - 0s 56us/sample - loss: 0.6913 - accuracy: 0.5307\n",
      "Epoch 24/100\n",
      "750/750 [==============================] - 0s 60us/sample - loss: 0.6913 - accuracy: 0.5307\n",
      "Epoch 25/100\n",
      "750/750 [==============================] - 0s 59us/sample - loss: 0.6914 - accuracy: 0.5307\n",
      "Epoch 26/100\n",
      "750/750 [==============================] - 0s 60us/sample - loss: 0.6913 - accuracy: 0.5307\n",
      "Epoch 27/100\n",
      "750/750 [==============================] - 0s 58us/sample - loss: 0.6913 - accuracy: 0.5307\n",
      "Epoch 28/100\n",
      "750/750 [==============================] - 0s 59us/sample - loss: 0.6913 - accuracy: 0.5307\n",
      "Epoch 29/100\n",
      "750/750 [==============================] - 0s 63us/sample - loss: 0.6914 - accuracy: 0.5307\n",
      "Epoch 30/100\n",
      "750/750 [==============================] - 0s 57us/sample - loss: 0.6914 - accuracy: 0.5307\n",
      "Epoch 31/100\n",
      "750/750 [==============================] - 0s 58us/sample - loss: 0.6913 - accuracy: 0.5307\n",
      "Epoch 32/100\n",
      "750/750 [==============================] - 0s 59us/sample - loss: 0.6913 - accuracy: 0.5307\n",
      "Epoch 33/100\n",
      "750/750 [==============================] - 0s 57us/sample - loss: 0.6913 - accuracy: 0.5307\n",
      "Epoch 34/100\n",
      "750/750 [==============================] - 0s 58us/sample - loss: 0.6913 - accuracy: 0.5307\n",
      "Epoch 35/100\n",
      "750/750 [==============================] - 0s 60us/sample - loss: 0.6913 - accuracy: 0.5307\n",
      "Epoch 36/100\n",
      "750/750 [==============================] - 0s 57us/sample - loss: 0.6913 - accuracy: 0.5307\n",
      "Epoch 37/100\n",
      "750/750 [==============================] - 0s 55us/sample - loss: 0.6913 - accuracy: 0.5307\n",
      "Epoch 38/100\n",
      "750/750 [==============================] - 0s 57us/sample - loss: 0.6913 - accuracy: 0.5307\n",
      "Epoch 39/100\n",
      "750/750 [==============================] - 0s 56us/sample - loss: 0.6913 - accuracy: 0.5307\n",
      "Epoch 40/100\n",
      "750/750 [==============================] - 0s 56us/sample - loss: 0.6913 - accuracy: 0.5307\n",
      "Epoch 41/100\n",
      "750/750 [==============================] - 0s 57us/sample - loss: 0.6913 - accuracy: 0.5307\n",
      "Epoch 42/100\n",
      "750/750 [==============================] - 0s 58us/sample - loss: 0.6913 - accuracy: 0.5307\n",
      "Epoch 43/100\n",
      "750/750 [==============================] - 0s 58us/sample - loss: 0.6913 - accuracy: 0.5307\n",
      "Epoch 44/100\n",
      "750/750 [==============================] - 0s 57us/sample - loss: 0.6913 - accuracy: 0.5307\n",
      "Epoch 45/100\n",
      "750/750 [==============================] - 0s 54us/sample - loss: 0.6913 - accuracy: 0.5307\n",
      "Epoch 46/100\n",
      "750/750 [==============================] - 0s 57us/sample - loss: 0.6913 - accuracy: 0.5307\n",
      "Epoch 47/100\n",
      "750/750 [==============================] - 0s 58us/sample - loss: 0.6913 - accuracy: 0.5307\n",
      "Epoch 48/100\n",
      "750/750 [==============================] - 0s 57us/sample - loss: 0.6913 - accuracy: 0.5307\n",
      "Epoch 49/100\n",
      "750/750 [==============================] - 0s 56us/sample - loss: 0.6913 - accuracy: 0.5307\n",
      "Epoch 50/100\n",
      "750/750 [==============================] - 0s 56us/sample - loss: 0.6913 - accuracy: 0.5307\n",
      "Epoch 51/100\n",
      "750/750 [==============================] - 0s 58us/sample - loss: 0.6913 - accuracy: 0.5307\n",
      "Epoch 52/100\n",
      "750/750 [==============================] - 0s 57us/sample - loss: 0.6913 - accuracy: 0.5307\n",
      "Epoch 53/100\n",
      "750/750 [==============================] - 0s 59us/sample - loss: 0.6913 - accuracy: 0.5307\n",
      "Epoch 54/100\n",
      "750/750 [==============================] - 0s 59us/sample - loss: 0.6913 - accuracy: 0.5307\n",
      "Epoch 55/100\n",
      "750/750 [==============================] - 0s 58us/sample - loss: 0.6913 - accuracy: 0.5307\n",
      "Epoch 56/100\n",
      "750/750 [==============================] - 0s 55us/sample - loss: 0.6913 - accuracy: 0.5307\n",
      "Epoch 57/100\n",
      "750/750 [==============================] - 0s 59us/sample - loss: 0.6913 - accuracy: 0.5307\n",
      "Epoch 58/100\n",
      "750/750 [==============================] - 0s 58us/sample - loss: 0.6913 - accuracy: 0.5307\n",
      "Epoch 59/100\n",
      "750/750 [==============================] - 0s 58us/sample - loss: 0.6913 - accuracy: 0.5307\n",
      "Epoch 60/100\n",
      "750/750 [==============================] - 0s 62us/sample - loss: 0.6913 - accuracy: 0.5307\n",
      "Epoch 61/100\n",
      "750/750 [==============================] - 0s 58us/sample - loss: 0.6913 - accuracy: 0.5307\n",
      "Epoch 62/100\n",
      "750/750 [==============================] - 0s 57us/sample - loss: 0.6913 - accuracy: 0.5307\n",
      "Epoch 63/100\n",
      "750/750 [==============================] - 0s 58us/sample - loss: 0.6913 - accuracy: 0.5307\n",
      "Epoch 64/100\n",
      "750/750 [==============================] - 0s 57us/sample - loss: 0.6913 - accuracy: 0.5307\n",
      "Epoch 65/100\n",
      "750/750 [==============================] - 0s 55us/sample - loss: 0.6913 - accuracy: 0.5307\n",
      "Epoch 66/100\n",
      "750/750 [==============================] - 0s 57us/sample - loss: 0.6913 - accuracy: 0.5307\n",
      "Epoch 67/100\n",
      "750/750 [==============================] - 0s 59us/sample - loss: 0.6913 - accuracy: 0.5307\n",
      "Epoch 68/100\n",
      "750/750 [==============================] - 0s 59us/sample - loss: 0.6913 - accuracy: 0.5307\n",
      "Epoch 69/100\n",
      "750/750 [==============================] - 0s 57us/sample - loss: 0.6913 - accuracy: 0.5307\n",
      "Epoch 70/100\n",
      "750/750 [==============================] - 0s 56us/sample - loss: 0.6913 - accuracy: 0.5307\n",
      "Epoch 71/100\n",
      "750/750 [==============================] - 0s 58us/sample - loss: 0.6913 - accuracy: 0.5307\n",
      "Epoch 72/100\n",
      "750/750 [==============================] - 0s 57us/sample - loss: 0.6913 - accuracy: 0.5307\n",
      "Epoch 73/100\n",
      "750/750 [==============================] - 0s 59us/sample - loss: 0.6913 - accuracy: 0.5307\n",
      "Epoch 74/100\n",
      "750/750 [==============================] - 0s 59us/sample - loss: 0.6913 - accuracy: 0.5307\n",
      "Epoch 75/100\n",
      "750/750 [==============================] - 0s 57us/sample - loss: 0.6913 - accuracy: 0.5307\n",
      "Epoch 76/100\n",
      "750/750 [==============================] - 0s 55us/sample - loss: 0.6913 - accuracy: 0.5307\n",
      "Epoch 77/100\n",
      "750/750 [==============================] - 0s 57us/sample - loss: 0.6913 - accuracy: 0.5307\n",
      "Epoch 78/100\n"
     ]
    },
    {
     "name": "stdout",
     "output_type": "stream",
     "text": [
      "750/750 [==============================] - 0s 59us/sample - loss: 0.6913 - accuracy: 0.5307\n",
      "Epoch 79/100\n",
      "750/750 [==============================] - 0s 58us/sample - loss: 0.6913 - accuracy: 0.5307\n",
      "Epoch 80/100\n",
      "750/750 [==============================] - 0s 55us/sample - loss: 0.6913 - accuracy: 0.5307\n",
      "Epoch 81/100\n",
      "750/750 [==============================] - 0s 54us/sample - loss: 0.6913 - accuracy: 0.5307\n",
      "Epoch 82/100\n",
      "750/750 [==============================] - 0s 55us/sample - loss: 0.6913 - accuracy: 0.5307\n",
      "Epoch 83/100\n",
      "750/750 [==============================] - 0s 53us/sample - loss: 0.6913 - accuracy: 0.5307\n",
      "Epoch 84/100\n",
      "750/750 [==============================] - 0s 56us/sample - loss: 0.6913 - accuracy: 0.5307\n",
      "Epoch 85/100\n",
      "750/750 [==============================] - 0s 63us/sample - loss: 0.6913 - accuracy: 0.5307\n",
      "Epoch 86/100\n",
      "750/750 [==============================] - 0s 57us/sample - loss: 0.6913 - accuracy: 0.5307\n",
      "Epoch 87/100\n",
      "750/750 [==============================] - 0s 55us/sample - loss: 0.6913 - accuracy: 0.5307\n",
      "Epoch 88/100\n",
      "750/750 [==============================] - 0s 53us/sample - loss: 0.6913 - accuracy: 0.5307\n",
      "Epoch 89/100\n",
      "750/750 [==============================] - 0s 55us/sample - loss: 0.6913 - accuracy: 0.5307\n",
      "Epoch 90/100\n",
      "750/750 [==============================] - 0s 56us/sample - loss: 0.6913 - accuracy: 0.5307\n",
      "Epoch 91/100\n",
      "750/750 [==============================] - 0s 55us/sample - loss: 0.6914 - accuracy: 0.5307\n",
      "Epoch 92/100\n",
      "750/750 [==============================] - 0s 55us/sample - loss: 0.6913 - accuracy: 0.5307\n",
      "Epoch 93/100\n",
      "750/750 [==============================] - 0s 55us/sample - loss: 0.6913 - accuracy: 0.5307\n",
      "Epoch 94/100\n",
      "750/750 [==============================] - 0s 53us/sample - loss: 0.6913 - accuracy: 0.5307\n",
      "Epoch 95/100\n",
      "750/750 [==============================] - 0s 56us/sample - loss: 0.6913 - accuracy: 0.5307\n",
      "Epoch 96/100\n",
      "750/750 [==============================] - 0s 56us/sample - loss: 0.6913 - accuracy: 0.5307\n",
      "Epoch 97/100\n",
      "750/750 [==============================] - 0s 55us/sample - loss: 0.6913 - accuracy: 0.5307\n",
      "Epoch 98/100\n",
      "750/750 [==============================] - 0s 53us/sample - loss: 0.6913 - accuracy: 0.5307\n",
      "Epoch 99/100\n",
      "750/750 [==============================] - 0s 55us/sample - loss: 0.6913 - accuracy: 0.5307\n",
      "Epoch 100/100\n",
      "750/750 [==============================] - 0s 53us/sample - loss: 0.6913 - accuracy: 0.5307\n"
     ]
    }
   ],
   "source": [
    "# Training the model with the nonlinear data\n",
    "model_moon = nn_model.fit(X_moon_train_scaled, y_moon_train, epochs=100, shuffle=True)"
   ]
  },
  {
   "cell_type": "code",
   "execution_count": 18,
   "metadata": {},
   "outputs": [
    {
     "data": {
      "text/plain": [
       "<matplotlib.axes._subplots.AxesSubplot at 0x7ffc67951750>"
      ]
     },
     "execution_count": 18,
     "metadata": {},
     "output_type": "execute_result"
    },
    {
     "data": {
      "image/png": "[encoded data removed]",
      "text/plain": [
       "<Figure size 432x288 with 1 Axes>"
      ]
     },
     "metadata": {
      "needs_background": "light"
     },
     "output_type": "display_data"
    }
   ],
   "source": [
    "# Create a DataFrame containing training history\n",
    "history_df = pd.DataFrame(model_moon.history, index=range(1,len(model_moon.history[\"loss\"])+1))\n",
    "\n",
    "# Plot the loss\n",
    "history_df.plot(y=\"loss\")"
   ]
  },
  {
   "cell_type": "code",
   "execution_count": 19,
   "metadata": {},
   "outputs": [
    {
     "data": {
      "text/plain": [
       "<matplotlib.axes._subplots.AxesSubplot at 0x7ffc679aea90>"
      ]
     },
     "execution_count": 19,
     "metadata": {},
     "output_type": "execute_result"
    },
    {
     "data": {
      "image/png": "[encoded data removed]",
      "text/plain": [
       "<Figure size 432x288 with 1 Axes>"
      ]
     },
     "metadata": {
      "needs_background": "light"
     },
     "output_type": "display_data"
    }
   ],
   "source": [
    "# Plot the accuracy\n",
    "history_df.plot(y=\"accuracy\")"
   ]
  },
  {
   "cell_type": "code",
   "execution_count": 20,
   "metadata": {},
   "outputs": [],
   "source": [
    "# Generate our new Sequential model\n",
    "new_model = tf.keras.models.Sequential()"
   ]
  },
  {
   "cell_type": "code",
   "execution_count": 21,
   "metadata": {},
   "outputs": [],
   "source": [
    "# Add the input and hidden layer\n",
    "number_inputs = 2\n",
    "number_hidden_nodes = 6\n",
    "\n",
    "new_model.add(tf.keras.layers.Dense(units=number_hidden_nodes, activation=\"relu\", input_dim=number_inputs))\n",
    "\n",
    "# Add the output layer that uses a probability activation function\n",
    "new_model.add(tf.keras.layers.Dense(units=1, activation=\"sigmoid\"))"
   ]
  },
  {
   "cell_type": "code",
   "execution_count": 22,
   "metadata": {},
   "outputs": [
    {
     "name": "stdout",
     "output_type": "stream",
     "text": [
      "Train on 750 samples\n",
      "Epoch 1/100\n",
      "750/750 [==============================] - 1s 932us/sample - loss: 0.6263 - accuracy: 0.5720\n",
      "Epoch 2/100\n",
      "750/750 [==============================] - 0s 65us/sample - loss: 0.5955 - accuracy: 0.6080\n",
      "Epoch 3/100\n",
      "750/750 [==============================] - 0s 67us/sample - loss: 0.5681 - accuracy: 0.6360\n",
      "Epoch 4/100\n",
      "750/750 [==============================] - 0s 68us/sample - loss: 0.5431 - accuracy: 0.6533\n",
      "Epoch 5/100\n",
      "750/750 [==============================] - 0s 67us/sample - loss: 0.5191 - accuracy: 0.6827\n",
      "Epoch 6/100\n",
      "750/750 [==============================] - 0s 67us/sample - loss: 0.4977 - accuracy: 0.7053\n",
      "Epoch 7/100\n",
      "750/750 [==============================] - 0s 65us/sample - loss: 0.4778 - accuracy: 0.7253\n",
      "Epoch 8/100\n",
      "750/750 [==============================] - 0s 64us/sample - loss: 0.4590 - accuracy: 0.7413\n",
      "Epoch 9/100\n",
      "750/750 [==============================] - 0s 67us/sample - loss: 0.4418 - accuracy: 0.7587\n",
      "Epoch 10/100\n",
      "750/750 [==============================] - 0s 66us/sample - loss: 0.4260 - accuracy: 0.7800\n",
      "Epoch 11/100\n",
      "750/750 [==============================] - 0s 66us/sample - loss: 0.4112 - accuracy: 0.7987\n",
      "Epoch 12/100\n",
      "750/750 [==============================] - 0s 65us/sample - loss: 0.3979 - accuracy: 0.8147\n",
      "Epoch 13/100\n",
      "750/750 [==============================] - 0s 62us/sample - loss: 0.3858 - accuracy: 0.8227\n",
      "Epoch 14/100\n",
      "750/750 [==============================] - 0s 62us/sample - loss: 0.3747 - accuracy: 0.8267\n",
      "Epoch 15/100\n",
      "750/750 [==============================] - 0s 60us/sample - loss: 0.3649 - accuracy: 0.8373\n",
      "Epoch 16/100\n",
      "750/750 [==============================] - 0s 60us/sample - loss: 0.3557 - accuracy: 0.8387\n",
      "Epoch 17/100\n",
      "750/750 [==============================] - 0s 62us/sample - loss: 0.3472 - accuracy: 0.8387\n",
      "Epoch 18/100\n",
      "750/750 [==============================] - 0s 62us/sample - loss: 0.3394 - accuracy: 0.8427\n",
      "Epoch 19/100\n",
      "750/750 [==============================] - 0s 62us/sample - loss: 0.3321 - accuracy: 0.8453\n",
      "Epoch 20/100\n",
      "750/750 [==============================] - 0s 65us/sample - loss: 0.3255 - accuracy: 0.8507\n",
      "Epoch 21/100\n",
      "750/750 [==============================] - 0s 61us/sample - loss: 0.3194 - accuracy: 0.8547\n",
      "Epoch 22/100\n",
      "750/750 [==============================] - 0s 60us/sample - loss: 0.3138 - accuracy: 0.8600\n",
      "Epoch 23/100\n",
      "750/750 [==============================] - 0s 64us/sample - loss: 0.3086 - accuracy: 0.8613\n",
      "Epoch 24/100\n",
      "750/750 [==============================] - 0s 62us/sample - loss: 0.3036 - accuracy: 0.8653\n",
      "Epoch 25/100\n",
      "750/750 [==============================] - 0s 61us/sample - loss: 0.2990 - accuracy: 0.8667\n",
      "Epoch 26/100\n",
      "750/750 [==============================] - 0s 66us/sample - loss: 0.2947 - accuracy: 0.8680\n",
      "Epoch 27/100\n",
      "750/750 [==============================] - 0s 64us/sample - loss: 0.2905 - accuracy: 0.8680\n",
      "Epoch 28/100\n",
      "750/750 [==============================] - 0s 84us/sample - loss: 0.2865 - accuracy: 0.8707\n",
      "Epoch 29/100\n",
      "750/750 [==============================] - 0s 65us/sample - loss: 0.2830 - accuracy: 0.8760\n",
      "Epoch 30/100\n",
      "750/750 [==============================] - 0s 65us/sample - loss: 0.2795 - accuracy: 0.8760\n",
      "Epoch 31/100\n",
      "750/750 [==============================] - 0s 63us/sample - loss: 0.2759 - accuracy: 0.8800\n",
      "Epoch 32/100\n",
      "750/750 [==============================] - 0s 60us/sample - loss: 0.2727 - accuracy: 0.8840\n",
      "Epoch 33/100\n",
      "750/750 [==============================] - 0s 62us/sample - loss: 0.2696 - accuracy: 0.8880\n",
      "Epoch 34/100\n",
      "750/750 [==============================] - 0s 63us/sample - loss: 0.2667 - accuracy: 0.8880\n",
      "Epoch 35/100\n",
      "750/750 [==============================] - 0s 64us/sample - loss: 0.2639 - accuracy: 0.8880\n",
      "Epoch 36/100\n",
      "750/750 [==============================] - 0s 63us/sample - loss: 0.2612 - accuracy: 0.8907\n",
      "Epoch 37/100\n",
      "750/750 [==============================] - 0s 62us/sample - loss: 0.2584 - accuracy: 0.8933\n",
      "Epoch 38/100\n",
      "750/750 [==============================] - 0s 63us/sample - loss: 0.2558 - accuracy: 0.8933\n",
      "Epoch 39/100\n",
      "750/750 [==============================] - 0s 61us/sample - loss: 0.2533 - accuracy: 0.8933\n",
      "Epoch 40/100\n",
      "750/750 [==============================] - 0s 62us/sample - loss: 0.2511 - accuracy: 0.8947\n",
      "Epoch 41/100\n",
      "750/750 [==============================] - 0s 56us/sample - loss: 0.2490 - accuracy: 0.8973\n",
      "Epoch 42/100\n",
      "750/750 [==============================] - 0s 56us/sample - loss: 0.2471 - accuracy: 0.8987\n",
      "Epoch 43/100\n",
      "750/750 [==============================] - 0s 57us/sample - loss: 0.2451 - accuracy: 0.9000\n",
      "Epoch 44/100\n",
      "750/750 [==============================] - 0s 56us/sample - loss: 0.2434 - accuracy: 0.9013\n",
      "Epoch 45/100\n",
      "750/750 [==============================] - 0s 61us/sample - loss: 0.2415 - accuracy: 0.9013\n",
      "Epoch 46/100\n",
      "750/750 [==============================] - 0s 62us/sample - loss: 0.2400 - accuracy: 0.9013\n",
      "Epoch 47/100\n",
      "750/750 [==============================] - 0s 59us/sample - loss: 0.2385 - accuracy: 0.9040\n",
      "Epoch 48/100\n",
      "750/750 [==============================] - 0s 61us/sample - loss: 0.2372 - accuracy: 0.9053\n",
      "Epoch 49/100\n",
      "750/750 [==============================] - 0s 62us/sample - loss: 0.2359 - accuracy: 0.9067\n",
      "Epoch 50/100\n",
      "750/750 [==============================] - 0s 62us/sample - loss: 0.2347 - accuracy: 0.9067\n",
      "Epoch 51/100\n",
      "750/750 [==============================] - 0s 62us/sample - loss: 0.2336 - accuracy: 0.9067\n",
      "Epoch 52/100\n",
      "750/750 [==============================] - 0s 62us/sample - loss: 0.2324 - accuracy: 0.9067\n",
      "Epoch 53/100\n",
      "750/750 [==============================] - 0s 63us/sample - loss: 0.2313 - accuracy: 0.9080\n",
      "Epoch 54/100\n",
      "750/750 [==============================] - 0s 63us/sample - loss: 0.2301 - accuracy: 0.9080\n",
      "Epoch 55/100\n",
      "750/750 [==============================] - 0s 60us/sample - loss: 0.2292 - accuracy: 0.9080\n",
      "Epoch 56/100\n",
      "750/750 [==============================] - 0s 61us/sample - loss: 0.2282 - accuracy: 0.9093\n",
      "Epoch 57/100\n",
      "750/750 [==============================] - 0s 64us/sample - loss: 0.2271 - accuracy: 0.9107\n",
      "Epoch 58/100\n",
      "750/750 [==============================] - 0s 60us/sample - loss: 0.2262 - accuracy: 0.9107\n",
      "Epoch 59/100\n",
      "750/750 [==============================] - 0s 61us/sample - loss: 0.2252 - accuracy: 0.9107\n",
      "Epoch 60/100\n",
      "750/750 [==============================] - 0s 63us/sample - loss: 0.2243 - accuracy: 0.9107\n",
      "Epoch 61/100\n",
      "750/750 [==============================] - 0s 61us/sample - loss: 0.2234 - accuracy: 0.9107\n",
      "Epoch 62/100\n",
      "750/750 [==============================] - 0s 61us/sample - loss: 0.2224 - accuracy: 0.9107\n",
      "Epoch 63/100\n",
      "750/750 [==============================] - 0s 63us/sample - loss: 0.2215 - accuracy: 0.9107\n",
      "Epoch 64/100\n",
      "750/750 [==============================] - 0s 62us/sample - loss: 0.2206 - accuracy: 0.9107\n",
      "Epoch 65/100\n",
      "750/750 [==============================] - 0s 58us/sample - loss: 0.2198 - accuracy: 0.9107\n",
      "Epoch 66/100\n",
      "750/750 [==============================] - 0s 62us/sample - loss: 0.2187 - accuracy: 0.9120\n",
      "Epoch 67/100\n",
      "750/750 [==============================] - 0s 62us/sample - loss: 0.2178 - accuracy: 0.9147\n",
      "Epoch 68/100\n",
      "750/750 [==============================] - 0s 61us/sample - loss: 0.2170 - accuracy: 0.9147\n",
      "Epoch 69/100\n",
      "750/750 [==============================] - 0s 59us/sample - loss: 0.2160 - accuracy: 0.9147\n",
      "Epoch 70/100\n",
      "750/750 [==============================] - 0s 61us/sample - loss: 0.2151 - accuracy: 0.9147\n",
      "Epoch 71/100\n",
      "750/750 [==============================] - 0s 58us/sample - loss: 0.2144 - accuracy: 0.9133\n",
      "Epoch 72/100\n",
      "750/750 [==============================] - 0s 60us/sample - loss: 0.2132 - accuracy: 0.9133\n",
      "Epoch 73/100\n",
      "750/750 [==============================] - 0s 63us/sample - loss: 0.2124 - accuracy: 0.9147\n",
      "Epoch 74/100\n",
      "750/750 [==============================] - 0s 60us/sample - loss: 0.2114 - accuracy: 0.9147\n",
      "Epoch 75/100\n",
      "750/750 [==============================] - 0s 64us/sample - loss: 0.2105 - accuracy: 0.9133\n",
      "Epoch 76/100\n",
      "750/750 [==============================] - 0s 63us/sample - loss: 0.2095 - accuracy: 0.9133\n",
      "Epoch 77/100\n",
      "750/750 [==============================] - 0s 63us/sample - loss: 0.2085 - accuracy: 0.9147\n",
      "Epoch 78/100\n"
     ]
    },
    {
     "name": "stdout",
     "output_type": "stream",
     "text": [
      "750/750 [==============================] - 0s 62us/sample - loss: 0.2076 - accuracy: 0.9160\n",
      "Epoch 79/100\n",
      "750/750 [==============================] - 0s 59us/sample - loss: 0.2066 - accuracy: 0.9160\n",
      "Epoch 80/100\n",
      "750/750 [==============================] - 0s 56us/sample - loss: 0.2056 - accuracy: 0.9160\n",
      "Epoch 81/100\n",
      "750/750 [==============================] - 0s 54us/sample - loss: 0.2045 - accuracy: 0.9160\n",
      "Epoch 82/100\n",
      "750/750 [==============================] - 0s 55us/sample - loss: 0.2035 - accuracy: 0.9173\n",
      "Epoch 83/100\n",
      "750/750 [==============================] - 0s 55us/sample - loss: 0.2025 - accuracy: 0.9173\n",
      "Epoch 84/100\n",
      "750/750 [==============================] - 0s 57us/sample - loss: 0.2016 - accuracy: 0.9173\n",
      "Epoch 85/100\n",
      "750/750 [==============================] - 0s 57us/sample - loss: 0.2005 - accuracy: 0.9173\n",
      "Epoch 86/100\n",
      "750/750 [==============================] - 0s 60us/sample - loss: 0.1994 - accuracy: 0.9173\n",
      "Epoch 87/100\n",
      "750/750 [==============================] - 0s 60us/sample - loss: 0.1985 - accuracy: 0.9173\n",
      "Epoch 88/100\n",
      "750/750 [==============================] - 0s 58us/sample - loss: 0.1975 - accuracy: 0.9173\n",
      "Epoch 89/100\n",
      "750/750 [==============================] - 0s 64us/sample - loss: 0.1963 - accuracy: 0.9173\n",
      "Epoch 90/100\n",
      "750/750 [==============================] - 0s 61us/sample - loss: 0.1953 - accuracy: 0.9173\n",
      "Epoch 91/100\n",
      "750/750 [==============================] - 0s 61us/sample - loss: 0.1942 - accuracy: 0.9187\n",
      "Epoch 92/100\n",
      "750/750 [==============================] - 0s 60us/sample - loss: 0.1933 - accuracy: 0.9173\n",
      "Epoch 93/100\n",
      "750/750 [==============================] - 0s 62us/sample - loss: 0.1921 - accuracy: 0.9187\n",
      "Epoch 94/100\n",
      "750/750 [==============================] - 0s 62us/sample - loss: 0.1911 - accuracy: 0.9187\n",
      "Epoch 95/100\n",
      "750/750 [==============================] - 0s 77us/sample - loss: 0.1899 - accuracy: 0.9200\n",
      "Epoch 96/100\n",
      "750/750 [==============================] - 0s 61us/sample - loss: 0.1887 - accuracy: 0.9200\n",
      "Epoch 97/100\n",
      "750/750 [==============================] - 0s 60us/sample - loss: 0.1876 - accuracy: 0.9213\n",
      "Epoch 98/100\n",
      "750/750 [==============================] - 0s 64us/sample - loss: 0.1864 - accuracy: 0.9213\n",
      "Epoch 99/100\n",
      "750/750 [==============================] - 0s 66us/sample - loss: 0.1853 - accuracy: 0.9213\n",
      "Epoch 100/100\n",
      "750/750 [==============================] - 0s 64us/sample - loss: 0.1843 - accuracy: 0.9227\n"
     ]
    }
   ],
   "source": [
    "# Compile the Sequential model together and customize metrics\n",
    "new_model.compile(loss=\"binary_crossentropy\", optimizer=\"adam\", metrics=[\"accuracy\"])\n",
    "\n",
    "# Fit the model to the training data\n",
    "new_fit_model = new_model.fit(X_moon_train_scaled, y_moon_train, epochs=100, shuffle=True)\n"
   ]
  },
  {
   "cell_type": "code",
   "execution_count": null,
   "metadata": {},
   "outputs": [],
   "source": []
  }
 ],
 "metadata": {
  "kernelspec": {
   "display_name": "mlenv",
   "language": "python",
   "name": "mlenv"
  },
  "language_info": {
   "codemirror_mode": {
    "name": "ipython",
    "version": 3
   },
   "file_extension": ".py",
   "mimetype": "text/x-python",
   "name": "python",
   "nbconvert_exporter": "python",
   "pygments_lexer": "ipython3",
   "version": "3.7.7"
  }
 },
 "nbformat": 4,
 "nbformat_minor": 4
}
